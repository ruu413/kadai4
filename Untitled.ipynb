{
 "cells": [
  {
   "cell_type": "code",
   "execution_count": 1,
   "metadata": {},
   "outputs": [
    {
     "data": {
      "text/plain": [
       "True"
      ]
     },
     "execution_count": 1,
     "metadata": {},
     "output_type": "execute_result"
    }
   ],
   "source": [
    "import torch, torchvision\n",
    "import torch.nn as nn\n",
    "import torch.nn.functional as F\n",
    "import torch.optim as opt\n",
    "import torchvision.transforms as transforms\n",
    "import numpy as np\n",
    "import time\n",
    "torch.distributed.is_available()"
   ]
  },
  {
   "cell_type": "code",
   "execution_count": 2,
   "metadata": {
    "collapsed": true
   },
   "outputs": [],
   "source": [
    "transform = transforms.Compose([\n",
    "    transforms.ToTensor()\n",
    "    ])\n",
    "trainset = torchvision.datasets.MNIST(root='../dataset/',train=True,download=True,transform=transform)\n",
    "trainloader = torch.utils.data.DataLoader(trainset,batch_size=100,shuffle=True,num_workers=2)\n",
    "\n",
    "testset = torchvision.datasets.MNIST(root='../dataset/',train=False,download=True,transform=transform)\n",
    "testloader = torch.utils.data.DataLoader(testset,batch_size=100,shuffle=False,num_workers=2)\n"
   ]
  },
  {
   "cell_type": "code",
   "execution_count": 17,
   "metadata": {
    "collapsed": true
   },
   "outputs": [],
   "source": [
    "class Flatten(nn.Module):\n",
    "    def forward(self, x):\n",
    "        return x.view(x.shape[0], -1)\n",
    "    \n",
    "model = nn.Sequential(\n",
    "    nn.Conv2d(1,32,kernel_size=3,stride=2,padding=True),\n",
    "    nn.ReLU(),\n",
    "    nn.Conv2d(32,64,kernel_size=3,stride=2,padding=True),\n",
    "    nn.ReLU(),\n",
    "    nn.Conv2d(64,128,kernel_size=3,stride=2,padding=True),\n",
    "    nn.ReLU(),\n",
    "    Flatten(),\n",
    "    nn.Linear(2048,128),\n",
    "    nn.Dropout(0.2),\n",
    "    nn.ReLU(),\n",
    "    nn.Linear(128,10),\n",
    "    nn.Dropout(0.2),\n",
    "    nn.Softmax()\n",
    ")\n",
    "lossfunc = nn.CrossEntropyLoss()\n",
    "softmax = nn.Softmax()\n",
    "device = \"cuda\"\n",
    "model = model.to(device)\n",
    "if False:\n",
    "    model = nn.DataParallel(model)\n",
    "optim = opt.Adam(model.parameters())"
   ]
  },
  {
   "cell_type": "code",
   "execution_count": 18,
   "metadata": {},
   "outputs": [
    {
     "name": "stdout",
     "output_type": "stream",
     "text": [
      "epoch0 tensor(1.6471, device='cuda:0', grad_fn=<NllLossBackward>)\n",
      "83.6 %\n",
      "epoch1 tensor(1.6008, device='cuda:0', grad_fn=<NllLossBackward>)\n",
      "85.56 %\n",
      "epoch2 tensor(1.6137, device='cuda:0', grad_fn=<NllLossBackward>)\n",
      "85.71 %\n",
      "epoch3 tensor(1.6169, device='cuda:0', grad_fn=<NllLossBackward>)\n",
      "86.00999999999999 %\n",
      "epoch4 tensor(1.6093, device='cuda:0', grad_fn=<NllLossBackward>)\n",
      "86.68 %\n",
      "epoch5 tensor(1.6035, device='cuda:0', grad_fn=<NllLossBackward>)\n",
      "86.75 %\n",
      "epoch6 tensor(1.6031, device='cuda:0', grad_fn=<NllLossBackward>)\n",
      "86.45 %\n",
      "epoch7 tensor(1.6296, device='cuda:0', grad_fn=<NllLossBackward>)\n",
      "87.06 %\n",
      "epoch8 tensor(1.5915, device='cuda:0', grad_fn=<NllLossBackward>)\n",
      "86.82 %\n",
      "epoch9 tensor(1.5926, device='cuda:0', grad_fn=<NllLossBackward>)\n",
      "87.16000000000001 %\n",
      "time: 38.58893918991089\n"
     ]
    }
   ],
   "source": [
    "epoch = 10\n",
    "start = time.time()\n",
    "for ep in range(epoch):\n",
    "    for i, (img, label) in enumerate(trainloader):\n",
    "        img = img.to(device)\n",
    "        label = label.to(device)\n",
    "        optim.zero_grad()\n",
    "        output = model(img)\n",
    "        loss = lossfunc(output, label)\n",
    "        loss.backward()\n",
    "        #print(torch.sum(torch.argmax(output, axis=1)==label)*100/label.shape[0])\n",
    "        optim.step()\n",
    "    acc = 0\n",
    "    num = 0\n",
    "    with torch.no_grad():\n",
    "        for i, (img, label) in enumerate(testloader):\n",
    "            img = img.to(device)\n",
    "            label = label.to(device)\n",
    "            output = model(img)\n",
    "            acc += int(torch.sum(torch.argmax(output, axis=1)==label).detach().cpu())\n",
    "            num += label.shape[0]\n",
    "    print(\"epoch%d\"%ep,loss)\n",
    "    print(acc/num*100,\"%\")\n",
    "end = time.time()\n",
    "print(\"time:\", end-start)"
   ]
  },
  {
   "cell_type": "markdown",
   "metadata": {},
   "source": [
    "\n",
    "time: 50.94362449645996"
   ]
  }
 ],
 "metadata": {
  "kernelspec": {
   "display_name": "Python 3 (Anaconda)",
   "language": "python",
   "name": "python3_anaconda"
  },
  "language_info": {
   "codemirror_mode": {
    "name": "ipython",
    "version": 3
   },
   "file_extension": ".py",
   "mimetype": "text/x-python",
   "name": "python",
   "nbconvert_exporter": "python",
   "pygments_lexer": "ipython3",
   "version": "3.6.9"
  }
 },
 "nbformat": 4,
 "nbformat_minor": 2
}

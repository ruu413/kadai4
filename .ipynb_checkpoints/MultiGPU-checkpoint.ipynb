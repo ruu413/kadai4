{
 "cells": [
  {
   "cell_type": "code",
   "execution_count": null,
   "metadata": {},
   "outputs": [],
   "source": [
    "import torch, torchvision\n",
    "import torch.nn as nn\n",
    "import torch.nn.functional as F\n",
    "import torch.optim as opt\n",
    "import torchvision.transforms as transforms\n",
    "import numpy as np\n",
    "import time\n",
    "torch.distributed.is_available()"
   ]
  },
  {
   "cell_type": "code",
   "execution_count": null,
   "metadata": {},
   "outputs": [],
   "source": [
    "transform = transforms.Compose([\n",
    "    transforms.ToTensor()\n",
    "    ])\n",
    "trainset = torchvision.datasets.MNIST(root='../dataset/',train=True,download=True,transform=transform)\n",
    "trainloader = torch.utils.data.DataLoader(trainset,batch_size=100,shuffle=True,num_workers=2)\n",
    "\n",
    "testset = torchvision.datasets.MNIST(root='../dataset/',train=False,download=True,transform=transform)\n",
    "testloader = torch.utils.data.DataLoader(testset,batch_size=100,shuffle=False,num_workers=2)\n"
   ]
  },
  {
   "cell_type": "code",
   "execution_count": 81,
   "metadata": {},
   "outputs": [],
   "source": [
    "class Flatten(nn.Module):\n",
    "    def forward(self, x):\n",
    "        return x.view(x.shape[0], -1)\n",
    "    \n",
    "model = nn.Sequential(\n",
    "    nn.Conv2d(1,32,kernel_size=3,stride=2,padding=True),\n",
    "    nn.ReLU(),\n",
    "    nn.Conv2d(32,64,kernel_size=3,stride=2,padding=True),\n",
    "    nn.ReLU(),\n",
    "    nn.Conv2d(64,64,kernel_size=3,stride=1,padding=True),\n",
    "    nn.ReLU(),\n",
    "    nn.Conv2d(64,128,kernel_size=3,stride=2,padding=True),\n",
    "    nn.ReLU(),\n",
    "    nn.Conv2d(128,128,kernel_size=3,stride=1,padding=True),\n",
    "    nn.ReLU(),\n",
    "    nn.Conv2d(128,256,kernel_size=3,stride=2,padding=True),\n",
    "    nn.ReLU(),\n",
    "    nn.Conv2d(256,256,kernel_size=3,stride=1,padding=True),\n",
    "    nn.ReLU(),\n",
    "    Flatten(),\n",
    "    nn.Linear(2048,128),\n",
    "    nn.ReLU(),\n",
    "    nn.Linear(128,10),\n",
    "    nn.Softmax()\n",
    ")\n",
    "lossfunc = nn.CrossEntropyLoss()\n",
    "softmax = nn.Softmax()\n",
    "device = \"cuda\"\n",
    "model = model.to(device)\n",
    "if False:\n",
    "    model = nn.DataParallel(model)\n",
    "optim = opt.Adam(model.parameters())"
   ]
  },
  {
   "cell_type": "code",
   "execution_count": 82,
   "metadata": {},
   "outputs": [
    {
     "name": "stdout",
     "output_type": "stream",
     "text": [
      "epoch0 tensor(1.4975, device='cuda:0', grad_fn=<NllLossBackward>)\n",
      "95.99 %\n",
      "epoch1 tensor(1.4679, device='cuda:0', grad_fn=<NllLossBackward>)\n",
      "97.03 %\n",
      "epoch2 tensor(1.4816, device='cuda:0', grad_fn=<NllLossBackward>)\n",
      "97.03 %\n",
      "epoch3 tensor(1.4612, device='cuda:0', grad_fn=<NllLossBackward>)\n",
      "97.41 %\n",
      "epoch4 tensor(1.5000, device='cuda:0', grad_fn=<NllLossBackward>)\n",
      "97.5 %\n",
      "epoch5 tensor(1.4709, device='cuda:0', grad_fn=<NllLossBackward>)\n",
      "98.13 %\n",
      "epoch6 tensor(1.4916, device='cuda:0', grad_fn=<NllLossBackward>)\n",
      "97.97 %\n",
      "epoch7 tensor(1.4869, device='cuda:0', grad_fn=<NllLossBackward>)\n",
      "98.05 %\n",
      "epoch8 tensor(1.4754, device='cuda:0', grad_fn=<NllLossBackward>)\n",
      "97.99 %\n",
      "epoch9 tensor(1.4712, device='cuda:0', grad_fn=<NllLossBackward>)\n",
      "97.57000000000001 %\n",
      "time: 39.60744571685791\n"
     ]
    }
   ],
   "source": [
    "epoch = 10\n",
    "start = time.time()\n",
    "for ep in range(epoch):\n",
    "    for i, (img, label) in enumerate(trainloader):\n",
    "        img = img.to(device)\n",
    "        label = label.to(device)\n",
    "        optim.zero_grad()\n",
    "        output = model(img)\n",
    "        loss = lossfunc(output, label)\n",
    "        loss.backward()\n",
    "        #print(torch.sum(torch.argmax(output, axis=1)==label)*100/label.shape[0])\n",
    "        optim.step()\n",
    "    acc = 0\n",
    "    num = 0\n",
    "    with torch.no_grad():\n",
    "        for i, (img, label) in enumerate(testloader):\n",
    "            img = img.to(device)\n",
    "            label = label.to(device)\n",
    "            output = model(img)\n",
    "            acc += int(torch.sum(torch.argmax(output, axis=1)==label).detach().cpu())\n",
    "            num += label.shape[0]\n",
    "    print(\"epoch%d\"%ep,loss)\n",
    "    print(acc/num*100,\"%\")\n",
    "end = time.time()\n",
    "print(\"time:\", end-start)"
   ]
  },
  {
   "cell_type": "markdown",
   "metadata": {},
   "source": [
    "\n",
    "time: 50.94362449645996"
   ]
  }
 ],
 "metadata": {
  "kernelspec": {
   "display_name": "Python 3 (Anaconda)",
   "language": "python",
   "name": "python3_anaconda"
  },
  "language_info": {
   "codemirror_mode": {
    "name": "ipython",
    "version": 3
   },
   "file_extension": ".py",
   "mimetype": "text/x-python",
   "name": "python",
   "nbconvert_exporter": "python",
   "pygments_lexer": "ipython3",
   "version": "3.6.9"
  }
 },
 "nbformat": 4,
 "nbformat_minor": 2
}

{
 "cells": [
  {
   "cell_type": "code",
   "execution_count": 2,
   "metadata": {
    "collapsed": true
   },
   "outputs": [],
   "source": [
    "import torch, torchvision\n",
    "import torch.nn as nn\n",
    "import torch.nn.functional as F\n",
    "import torch.optim as opt\n",
    "import torchvision.transforms as transforms\n",
    "import numpy as np\n",
    "import os\n",
    "from PIL import Image\n",
    "from IPython import display\n",
    "import matplotlib.pyplot as plt\n",
    "import glob\n",
    "%matplotlib inline\n",
    "device = \"cuda\""
   ]
  },
  {
   "cell_type": "code",
   "execution_count": 3,
   "metadata": {
    "collapsed": true
   },
   "outputs": [],
   "source": [
    "preprocess = transforms.Compose([\n",
    "    transforms.Resize(256),\n",
    "    transforms.CenterCrop(224),\n",
    "    transforms.ToTensor(),\n",
    "    #transforms.Normalize(mean=[0.485, 0.456, 0.406], std=[0.229, 0.224, 0.225]),\n",
    "])"
   ]
  },
  {
   "cell_type": "code",
   "execution_count": 4,
   "metadata": {
    "collapsed": true
   },
   "outputs": [],
   "source": [
    "class DownSamp(nn.Module):\n",
    "    def __init__(self, in_ch, out_ch):\n",
    "        super(DownSamp, self).__init__()\n",
    "        self.conv1 = nn.Conv2d(in_ch, out_ch, kernel_size=3, stride=2,padding=1)\n",
    "        self.conv2 = nn.Conv2d(out_ch, out_ch, kernel_size=3, stride=1,padding=1)\n",
    "        self.conv3 = nn.Conv2d(out_ch, out_ch, kernel_size=3, stride=1,padding=1)\n",
    "    def forward(self, x):\n",
    "        x = self.conv1(x)\n",
    "        x = F.relu_(x)\n",
    "        x = self.conv2(x)\n",
    "        x = F.relu_(x)\n",
    "        x = self.conv3(x)\n",
    "        x = F.relu_(x)\n",
    "        return x\n",
    "class UpSamp(nn.Module):\n",
    "    def __init__(self, in_ch, cat_ch, out_ch):\n",
    "        super(UpSamp, self).__init__()\n",
    "        self.deconv = nn.ConvTranspose2d(in_ch,in_ch//2,kernel_size=4, stride=2,padding=1)\n",
    "        #forwardでcatする catするサイズはアップサンプル後\n",
    "        self.conv1 = nn.Conv2d(in_ch//2+cat_ch, out_ch, kernel_size=3, stride=1,padding=1)\n",
    "        self.conv2 = nn.Conv2d(out_ch, out_ch, kernel_size=3, stride=1,padding=1)\n",
    "    def forward(self,x, cat):\n",
    "        x = self.deconv(x)\n",
    "        x = F.relu_(x)\n",
    "        x = torch.cat((x, cat),axis=1)\n",
    "        x = self.conv1(x)\n",
    "        x = F.relu_(x)\n",
    "        x = self.conv2(x)\n",
    "        x = F.relu_(x)\n",
    "        return x\n",
    "d = DownSamp(32,64)\n",
    "u = UpSamp(64,32,32)\n",
    "d(torch.zeros((1,32,64,64)))\n",
    "u(torch.zeros((1,64,32,32)),torch.zeros((1,32,64,64))).shape\n",
    "class UNet(nn.Module):\n",
    "    def __init__(self):\n",
    "        super(UNet,self).__init__()\n",
    "        self.in1 = nn.Conv2d(3, 64, kernel_size=7,stride=1,padding=3)\n",
    "        self.in2 = nn.Conv2d(64, 64, kernel_size=3,stride=1,padding=1)\n",
    "        self.down1 = DownSamp(64,128)\n",
    "        self.down2 = DownSamp(128,256)\n",
    "        self.down3 = DownSamp(256,512)\n",
    "        #self.down4 = DownSamp(512,1024)\n",
    "        #self.up4 = UpSamp(1024,512,512)\n",
    "        self.up3 = UpSamp(512,256,256)\n",
    "        self.up2 = UpSamp(256,128,128)\n",
    "        self.up1 = UpSamp(128,64,64)\n",
    "        self.out = nn.Conv2d(64,3, kernel_size=7, stride=1, padding=3)\n",
    "    def forward(self,x):\n",
    "        x = self.in1(x)\n",
    "        x = F.relu_(x)\n",
    "        x1 = self.in2(x)\n",
    "        x1 = F.relu_(x1)\n",
    "        x2 = self.down1(x1)\n",
    "        x3 = self.down2(x2)\n",
    "        x4 = self.down3(x3)\n",
    "        #x5 = self.down4(x4)\n",
    "        #x = self.up4(x5,x4)\n",
    "        x = self.up3(x4, x3)\n",
    "        x = self.up2(x, x2)\n",
    "        x = self.up1(x, x1)\n",
    "        x = self.out(x)\n",
    "        x = F.tanh(x)\n",
    "        return x\n"
   ]
  },
  {
   "cell_type": "code",
   "execution_count": 5,
   "metadata": {},
   "outputs": [
    {
     "data": {
      "text/plain": [
       "torch.Size([1, 8, 8])"
      ]
     },
     "execution_count": 5,
     "metadata": {},
     "output_type": "execute_result"
    }
   ],
   "source": [
    "from torch.nn.utils.spectral_norm import spectral_norm\n",
    "\n",
    "class Discriminator(nn.Module):\n",
    "    def __init__(self):\n",
    "        super(Discriminator, self).__init__()        \n",
    "        self.main = nn.Sequential(\n",
    "            spectral_norm(nn.Conv2d(3, 64, stride=2, kernel_size=3, padding=1)),\n",
    "            nn.LeakyReLU(0.1),\n",
    "            spectral_norm(nn.Conv2d(64, 128, stride=2, kernel_size=3, padding=1)),\n",
    "            nn.LeakyReLU(0.1),\n",
    "            spectral_norm(nn.Conv2d(128, 256, stride=2, kernel_size=3, padding=1)),\n",
    "            nn.LeakyReLU(0.1),\n",
    "            spectral_norm(nn.Conv2d(256, 512, stride=2, kernel_size=3, padding=1)),\n",
    "            nn.LeakyReLU(0.1),\n",
    "            nn.Conv2d(512,1,stride=2,kernel_size=1,padding=1)\n",
    "            \n",
    "        )\n",
    "    def forward(self, x):\n",
    "        return self.main(x).squeeze_(1)\n",
    "d = Discriminator()\n",
    "d(torch.zeros((1,3,224,224))).shape"
   ]
  },
  {
   "cell_type": "code",
   "execution_count": 7,
   "metadata": {},
   "outputs": [
    {
     "ename": "TypeError",
     "evalue": "min() received an invalid combination of arguments - got (int, Tensor), but expected one of:\n * (Tensor input)\n * (Tensor input, Tensor other, Tensor out)\n * (Tensor input, int dim, bool keepdim, tuple of Tensors out)\n",
     "output_type": "error",
     "traceback": [
      "\u001b[0;31m---------------------------------------------------------------------------\u001b[0m",
      "\u001b[0;31mTypeError\u001b[0m                                 Traceback (most recent call last)",
      "\u001b[0;32m<ipython-input-7-e0bf8b5752e5>\u001b[0m in \u001b[0;36m<module>\u001b[0;34m\u001b[0m\n\u001b[1;32m      7\u001b[0m \u001b[0mg_loss\u001b[0m \u001b[0;34m=\u001b[0m \u001b[0;34m-\u001b[0m\u001b[0mtorch\u001b[0m\u001b[0;34m.\u001b[0m\u001b[0msum\u001b[0m\u001b[0;34m(\u001b[0m\u001b[0md\u001b[0m\u001b[0;34m(\u001b[0m\u001b[0mfake\u001b[0m\u001b[0;34m)\u001b[0m\u001b[0;34m)\u001b[0m\u001b[0;34m\u001b[0m\u001b[0;34m\u001b[0m\u001b[0m\n\u001b[1;32m      8\u001b[0m \u001b[0;34m\u001b[0m\u001b[0m\n\u001b[0;32m----> 9\u001b[0;31m \u001b[0md_loss\u001b[0m \u001b[0;34m=\u001b[0m \u001b[0;34m-\u001b[0m\u001b[0mtorch\u001b[0m\u001b[0;34m.\u001b[0m\u001b[0mmean\u001b[0m\u001b[0;34m(\u001b[0m\u001b[0mtorch\u001b[0m\u001b[0;34m.\u001b[0m\u001b[0mmin\u001b[0m\u001b[0;34m(\u001b[0m\u001b[0;36m0\u001b[0m\u001b[0;34m,\u001b[0m\u001b[0;34m-\u001b[0m\u001b[0;36m1\u001b[0m\u001b[0;34m+\u001b[0m\u001b[0md\u001b[0m\u001b[0;34m(\u001b[0m\u001b[0mreal\u001b[0m\u001b[0;34m)\u001b[0m\u001b[0;34m)\u001b[0m \u001b[0;34m+\u001b[0m \u001b[0mtorch\u001b[0m\u001b[0;34m.\u001b[0m\u001b[0mmin\u001b[0m\u001b[0;34m(\u001b[0m\u001b[0;36m0\u001b[0m\u001b[0;34m,\u001b[0m \u001b[0;34m-\u001b[0m\u001b[0;36m1\u001b[0m \u001b[0;34m-\u001b[0m \u001b[0md\u001b[0m\u001b[0;34m(\u001b[0m\u001b[0mfake\u001b[0m\u001b[0;34m)\u001b[0m\u001b[0;34m)\u001b[0m\u001b[0;34m)\u001b[0m\u001b[0;34m\u001b[0m\u001b[0;34m\u001b[0m\u001b[0m\n\u001b[0m",
      "\u001b[0;31mTypeError\u001b[0m: min() received an invalid combination of arguments - got (int, Tensor), but expected one of:\n * (Tensor input)\n * (Tensor input, Tensor other, Tensor out)\n * (Tensor input, int dim, bool keepdim, tuple of Tensors out)\n"
     ]
    }
   ],
   "source": [
    "\n",
    "g = UNet().to(device)\n",
    "d = Discriminator().to(device)\n",
    "fake = g(torch.zeros((1,3,224,224)).to(device))\n",
    "real = torch.zeros((1,3,224,224)).to(device)\n",
    "fake.shape\n",
    "real.shape\n",
    "g_loss = -torch.sum(d(fake))\n",
    "\n",
    "d_loss = -torch.mean(torch.min(0,-1+d(real)) + torch.min(0, -1 - d(fake)))"
   ]
  },
  {
   "cell_type": "code",
   "execution_count": null,
   "metadata": {
    "collapsed": true
   },
   "outputs": [],
   "source": []
  }
 ],
 "metadata": {
  "kernelspec": {
   "display_name": "Python 3 (Anaconda)",
   "language": "python",
   "name": "python3_anaconda"
  },
  "language_info": {
   "codemirror_mode": {
    "name": "ipython",
    "version": 3
   },
   "file_extension": ".py",
   "mimetype": "text/x-python",
   "name": "python",
   "nbconvert_exporter": "python",
   "pygments_lexer": "ipython3",
   "version": "3.6.9"
  }
 },
 "nbformat": 4,
 "nbformat_minor": 2
}

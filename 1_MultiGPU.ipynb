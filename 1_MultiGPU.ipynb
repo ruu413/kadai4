{
 "cells": [
  {
   "cell_type": "code",
   "execution_count": 55,
   "metadata": {},
   "outputs": [
    {
     "data": {
      "text/plain": [
       "2"
      ]
     },
     "execution_count": 55,
     "metadata": {},
     "output_type": "execute_result"
    }
   ],
   "source": [
    "import torch, torchvision\n",
    "import torch.nn as nn\n",
    "import torch.nn.functional as F\n",
    "import torch.optim as opt\n",
    "import torchvision.transforms as transforms\n",
    "import numpy as np\n",
    "import time\n",
    "torch.cuda.device_count()\n",
    "#使えるGPU数"
   ]
  },
  {
   "cell_type": "code",
   "execution_count": 44,
   "metadata": {},
   "outputs": [
    {
     "name": "stdout",
     "output_type": "stream",
     "text": [
      "Files already downloaded and verified\n",
      "Files already downloaded and verified\n"
     ]
    }
   ],
   "source": [
    "transform = transforms.Compose([\n",
    "    transforms.ToTensor()\n",
    "    ])\n",
    "trainset = torchvision.datasets.CIFAR10(root='../dataset/',train=True,download=True,transform=transform)\n",
    "trainloader = torch.utils.data.DataLoader(trainset,batch_size=128,shuffle=True,num_workers=2)\n",
    "\n",
    "testset = torchvision.datasets.CIFAR10(root='../dataset/',train=False,download=True,transform=transform)\n",
    "testloader = torch.utils.data.DataLoader(testset,batch_size=128,shuffle=False,num_workers=2)\n",
    "#データセットの読みこみ"
   ]
  },
  {
   "cell_type": "code",
   "execution_count": 45,
   "metadata": {},
   "outputs": [
    {
     "data": {
      "text/plain": [
       "torch.Size([3, 32, 32])"
      ]
     },
     "execution_count": 45,
     "metadata": {},
     "output_type": "execute_result"
    }
   ],
   "source": [
    "trainset[0][0].shape"
   ]
  },
  {
   "cell_type": "code",
   "execution_count": 48,
   "metadata": {},
   "outputs": [
    {
     "name": "stdout",
     "output_type": "stream",
     "text": [
      "tensor([[0.1025, 0.0995, 0.1086, 0.0964, 0.0997, 0.0996, 0.1025, 0.1025, 0.0935,\n",
      "         0.0952]], grad_fn=<SoftmaxBackward>)\n"
     ]
    }
   ],
   "source": [
    "\n",
    "model = nn.Sequential(\n",
    "    nn.Conv2d(3,32,kernel_size=3,stride=2,padding=1),\n",
    "    nn.ReLU(),\n",
    "    nn.Conv2d(32,64,kernel_size=3,stride=1,padding=1),\n",
    "    nn.ReLU(),\n",
    "    nn.Conv2d(64,128,kernel_size=3,stride=2,padding=1),\n",
    "    nn.ReLU(),\n",
    "    nn.Conv2d(128,256,kernel_size=3,stride=1,padding=1),\n",
    "    nn.ReLU(),\n",
    "    nn.Conv2d(256,512,kernel_size=3,stride=2,padding=1),\n",
    "    nn.ReLU(),\n",
    "    nn.Conv2d(512,1024,kernel_size=3,stride=1,padding=1),\n",
    "    nn.ReLU(),\n",
    "    nn.AdaptiveAvgPool2d(output_size=(1,1)),\n",
    "    nn.Flatten(),\n",
    "    nn.Linear(1024,128),\n",
    "    nn.Dropout(0.2),\n",
    "    nn.ReLU(),\n",
    "    nn.Linear(128,10),\n",
    "    nn.Dropout(0.2),\n",
    "    nn.Softmax(dim=1)\n",
    ")\n",
    "print(model(torch.zeros((1,3,32,32))))\n",
    "#モデルの定義\n",
    "lossfunc = nn.CrossEntropyLoss()\n",
    "#分類タスクなのでCrossEntropyLoss\n",
    "softmax = nn.Softmax()\n",
    "device = \"cuda\"\n",
    "model = model.to(device)\n",
    "if True:\n",
    "    model = nn.DataParallel(model)\n",
    "#torch.nn.DataParallelにモデルを投げることでデータ並列化\n",
    "optim = opt.Adam(model.parameters())\n",
    "#学習はAdam Optimizerを用いる"
   ]
  },
  {
   "cell_type": "code",
   "execution_count": 49,
   "metadata": {},
   "outputs": [
    {
     "name": "stdout",
     "output_type": "stream",
     "text": [
      "epoch0 tensor(2.1739, device='cuda:0', grad_fn=<NllLossBackward>)\n",
      "25.7 %\n",
      "epoch1 tensor(2.1341, device='cuda:0', grad_fn=<NllLossBackward>)\n",
      "30.0 %\n",
      "epoch2 tensor(2.1653, device='cuda:0', grad_fn=<NllLossBackward>)\n",
      "30.73 %\n",
      "epoch3 tensor(2.0460, device='cuda:0', grad_fn=<NllLossBackward>)\n",
      "34.339999999999996 %\n",
      "epoch4 tensor(2.1202, device='cuda:0', grad_fn=<NllLossBackward>)\n",
      "37.11 %\n",
      "epoch5 tensor(2.1823, device='cuda:0', grad_fn=<NllLossBackward>)\n",
      "37.44 %\n",
      "epoch6 tensor(2.0869, device='cuda:0', grad_fn=<NllLossBackward>)\n",
      "38.32 %\n",
      "epoch7 tensor(2.1366, device='cuda:0', grad_fn=<NllLossBackward>)\n",
      "36.08 %\n",
      "epoch8 tensor(2.0803, device='cuda:0', grad_fn=<NllLossBackward>)\n",
      "37.669999999999995 %\n",
      "epoch9 tensor(2.0098, device='cuda:0', grad_fn=<NllLossBackward>)\n",
      "42.78 %\n",
      "time: 92.3054940700531\n"
     ]
    }
   ],
   "source": [
    "epoch = 10\n",
    "start = time.time()\n",
    "#学習をepoch数だけ回す\n",
    "for ep in range(epoch):\n",
    "    for i, (img, label) in enumerate(trainloader):\n",
    "        img = img.to(device)\n",
    "        label = label.to(device)\n",
    "        optim.zero_grad()\n",
    "        output = model(img)\n",
    "        loss = lossfunc(output, label)\n",
    "        loss.backward()\n",
    "        #print(torch.sum(torch.argmax(output, axis=1)==label)*100/label.shape[0])\n",
    "        optim.step()\n",
    "    acc = 0\n",
    "    num = 0\n",
    "    #1epoch回すごとにテストデータで分類率を確かめる\n",
    "    with torch.no_grad():\n",
    "        for i, (img, label) in enumerate(testloader):\n",
    "            img = img.to(device)\n",
    "            label = label.to(device)\n",
    "            output = model(img)\n",
    "            acc += int(torch.sum(torch.argmax(output, axis=1)==label).detach().cpu())\n",
    "            #最も出力が大きいものを推測ラベルとしてあっているものを数える\n",
    "            num += label.shape[0]\n",
    "    print(\"epoch%d\"%ep,loss)\n",
    "    print(acc/num*100,\"%\")\n",
    "#全epochが終わった時点の経過時間を計測\n",
    "end = time.time()\n",
    "print(\"time:\", end-start)"
   ]
  },
  {
   "cell_type": "markdown",
   "metadata": {},
   "source": [
    "batch_size = 128のとき\n",
    "\n",
    "並列時 time: 92.3054940700531\n",
    "\n",
    "非並列時 time: 75.03011393547058"
   ]
  },
  {
   "cell_type": "markdown",
   "metadata": {},
   "source": [
    "batch_size = 256のとき\n",
    "\n",
    "並列時 time: 62.5077702999115\n",
    "\n",
    "非並列時 time: 70.36796069145203"
   ]
  },
  {
   "cell_type": "markdown",
   "metadata": {},
   "source": [
    "batch_size = 512のとき\n",
    "\n",
    "並列時 time: 50.71963453292847\n",
    "    \n",
    "非並列時time: 65.97711610794067"
   ]
  },
  {
   "cell_type": "markdown",
   "metadata": {},
   "source": [
    "バッチサイズが小さいと並列化しない方が早かったがバッチサイズを上げるごとに並列時の方が早くなった。\n",
    "モデルをさらに大きくすると違いが大きくなると考える。"
   ]
  },
  {
   "cell_type": "markdown",
   "metadata": {},
   "source": [
    "### 参考文献\n",
    "\n",
    "PytorchでMulti-GPUを試す https://qiita.com/arutema47/items/2b92f94c734b0a11609d\n",
    "    \n",
    "PyTorch Tutorials OPTIONAL: DATA PARALLELISM https://pytorch.org/tutorials/beginner/blitz/data_parallel_tutorial.html"
   ]
  },
  {
   "cell_type": "code",
   "execution_count": null,
   "metadata": {
    "collapsed": true
   },
   "outputs": [],
   "source": []
  },
  {
   "cell_type": "code",
   "execution_count": null,
   "metadata": {
    "collapsed": true
   },
   "outputs": [],
   "source": []
  }
 ],
 "metadata": {
  "kernelspec": {
   "display_name": "Python 3 (Anaconda)",
   "language": "python",
   "name": "python3_anaconda"
  },
  "language_info": {
   "codemirror_mode": {
    "name": "ipython",
    "version": 3
   },
   "file_extension": ".py",
   "mimetype": "text/x-python",
   "name": "python",
   "nbconvert_exporter": "python",
   "pygments_lexer": "ipython3",
   "version": "3.6.9"
  }
 },
 "nbformat": 4,
 "nbformat_minor": 2
}

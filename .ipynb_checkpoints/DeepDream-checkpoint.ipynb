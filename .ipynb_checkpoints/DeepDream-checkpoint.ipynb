{
 "cells": [
  {
   "cell_type": "code",
   "execution_count": 162,
   "metadata": {
    "collapsed": true
   },
   "outputs": [],
   "source": [
    "import torch, torchvision\n",
    "import torch.nn as nn\n",
    "import torch.nn.functional as F\n",
    "import torch.optim as opt\n",
    "import torchvision.transforms as transforms\n",
    "import numpy as np\n",
    "from PIL import Image\n",
    "from IPython import display\n",
    "import matplotlib.pyplot as plt\n",
    "%matplotlib inline"
   ]
  },
  {
   "cell_type": "code",
   "execution_count": 163,
   "metadata": {},
   "outputs": [
    {
     "name": "stdout",
     "output_type": "stream",
     "text": [
      "5\n"
     ]
    }
   ],
   "source": [
    "model = torchvision.models.resnext50_32x4d(pretrained=True)\n",
    "layer0 = nn.Sequential(*list(model.children())[0:4])\n",
    "layers = [layer0, *list(model.children())[4:-2]]\n",
    "print(len(layers))"
   ]
  },
  {
   "cell_type": "code",
   "execution_count": null,
   "metadata": {},
   "outputs": [],
   "source": [
    "model = model.to(\"cuda\")\n",
    "def deepdream(img_fn, layer_contribution = [0,2,1,1,1]):\n",
    "    image = Image.open(img_fn)\n",
    "    #display.display(image)\n",
    "    transform = transforms.ToTensor()\n",
    "    image = transform(image)\n",
    "    image = image.reshape(1,*image.shape)\n",
    "    image = image.to(\"cuda\")\n",
    "    #plt.imshow(np.array(image)[0].transpose(1,2,0))\n",
    "    for itr in range(500):\n",
    "        image.requires_grad = True\n",
    "        loss = 0\n",
    "        output = image\n",
    "        for j, layer in enumerate(layers):\n",
    "            output = layer(output)\n",
    "            scale = output.shape[1]*output.shape[2]#*output.shape[3]\n",
    "            loss+=(layer_contributions[j]*torch.sum(output[:,:,2:-2,2:-2]**2)/scale)\n",
    "        model.zero_grad()\n",
    "        loss.backward()\n",
    "        image = image.add(image.grad).detach()\n",
    "        #display.clear_output()\n",
    "        if itr%100 == 0:\n",
    "            display.clear_output()\n",
    "            plt.imshow(np.array(image.cpu())[0].transpose(1,2,0),)\n",
    "            plt.show()\n",
    "        print(loss)"
   ]
  },
  {
   "cell_type": "code",
   "execution_count": null,
   "metadata": {},
   "outputs": [],
   "source": [
    "deepdream(\"../img/000003.jpg\")"
   ]
  },
  {
   "cell_type": "code",
   "execution_count": null,
   "metadata": {},
   "outputs": [],
   "source": [
    "deepdream(\"../img/000027.jpg\")"
   ]
  },
  {
   "cell_type": "code",
   "execution_count": null,
   "metadata": {
    "collapsed": true
   },
   "outputs": [],
   "source": [
    "deepdream(\"../img/000142.jpg\")"
   ]
  },
  {
   "cell_type": "code",
   "execution_count": null,
   "metadata": {
    "collapsed": true
   },
   "outputs": [],
   "source": [
    "deepdream(\"../img/000075.jpg\")"
   ]
  },
  {
   "cell_type": "code",
   "execution_count": null,
   "metadata": {
    "collapsed": true
   },
   "outputs": [],
   "source": [
    "deepdream(\"../img/000034.jpg\")"
   ]
  },
  {
   "cell_type": "code",
   "execution_count": null,
   "metadata": {
    "collapsed": true
   },
   "outputs": [],
   "source": [
    "\n",
    "\n"
   ]
  }
 ],
 "metadata": {
  "kernelspec": {
   "display_name": "Python 3 (Anaconda)",
   "language": "python",
   "name": "python3_anaconda"
  },
  "language_info": {
   "codemirror_mode": {
    "name": "ipython",
    "version": 3
   },
   "file_extension": ".py",
   "mimetype": "text/x-python",
   "name": "python",
   "nbconvert_exporter": "python",
   "pygments_lexer": "ipython3",
   "version": "3.6.9"
  }
 },
 "nbformat": 4,
 "nbformat_minor": 2
}
